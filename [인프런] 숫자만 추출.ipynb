{
 "cells": [
  {
   "cell_type": "markdown",
   "metadata": {},
   "source": [
    "문자와 숫자가 섞여있는 문자열이 주어지면 그 중 숫자만 추출하여 그 순서대로 자연수를 만듭니다. 만들어진 자연수와 그 자연수의 약수 개수를 출력합니다. \n",
    "만약 \"t0e0a1c2h0er\"에서 숫자만 추출하면 0, 0, 1, 2, 0 이고\n",
    "이것을 자연수로 만들면 120이 됩니다. 즉, 첫 자리 0은 자연수화 할때 무시합니다. 출력은 120을 출력하고 다음 줄에 120의 약수 개수를 출력하면 됩니다.\n",
    "추출하여 만들어지는 자연수는 100,000,000을 넘지 않습니다.\n"
   ]
  },
  {
   "cell_type": "code",
   "execution_count": 15,
   "metadata": {},
   "outputs": [
    {
     "name": "stdout",
     "output_type": "stream",
     "text": [
      "242174\n"
     ]
    }
   ],
   "source": [
    "s = input()\n",
    "test =list(map(str, [0,1,2,3,4,5,6,7,8,9]))\n",
    "ans = ''\n",
    "for i in s:\n",
    "    if i in test:\n",
    "        ans+=i\n",
    "print(int(ans))"
   ]
  },
  {
   "cell_type": "code",
   "execution_count": 18,
   "metadata": {},
   "outputs": [
    {
     "name": "stdout",
     "output_type": "stream",
     "text": [
      "2452\n"
     ]
    }
   ],
   "source": [
    "s = input()\n",
    "res = 0\n",
    "for i in s:\n",
    "    if i.isdecimal():\n",
    "        res = res*10+ int(i)\n",
    "print(res)"
   ]
  }
 ],
 "metadata": {
  "kernelspec": {
   "display_name": "Python 3.10.1 64-bit",
   "language": "python",
   "name": "python3"
  },
  "language_info": {
   "codemirror_mode": {
    "name": "ipython",
    "version": 3
   },
   "file_extension": ".py",
   "mimetype": "text/x-python",
   "name": "python",
   "nbconvert_exporter": "python",
   "pygments_lexer": "ipython3",
   "version": "3.10.1 (tags/v3.10.1:2cd268a, Dec  6 2021, 19:10:37) [MSC v.1929 64 bit (AMD64)]"
  },
  "orig_nbformat": 4,
  "vscode": {
   "interpreter": {
    "hash": "085600a7aa13deceb8deb0fe24866ff20c45f3fe42a7fd427e717b2e61e27c6a"
   }
  }
 },
 "nbformat": 4,
 "nbformat_minor": 2
}
