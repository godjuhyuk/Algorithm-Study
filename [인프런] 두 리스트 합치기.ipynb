{
 "cells": [
  {
   "attachments": {},
   "cell_type": "markdown",
   "metadata": {},
   "source": [
    "오름차순으로 정렬이 된 두 리스트가 주어지면 두 리스트를 오름차순으로 합쳐 출력하는 프로그램을 작성하세요. "
   ]
  },
  {
   "cell_type": "code",
   "execution_count": 10,
   "metadata": {},
   "outputs": [],
   "source": [
    "n = int(input())\n",
    "a = list(map(int, input().split()))\n",
    "m = int(input())\n",
    "b = list(map(int, input().split()))\n"
   ]
  },
  {
   "attachments": {},
   "cell_type": "markdown",
   "metadata": {},
   "source": [
    "sort() => n logn 이므로 너무 느림\n",
    "정렬이 이미 되어있을땐 n번만에 가능  "
   ]
  },
  {
   "cell_type": "code",
   "execution_count": 11,
   "metadata": {},
   "outputs": [
    {
     "name": "stdout",
     "output_type": "stream",
     "text": [
      "[1, 2, 3, 3, 5, 6, 7, 9]\n"
     ]
    }
   ],
   "source": [
    "p1 = p2 = 0\n",
    "c = []\n",
    "while p1 < n and p2 < m:\n",
    "    if a[p1] < b[p2]:\n",
    "        c.append(a[p1])\n",
    "        p1 += 1\n",
    "    else:\n",
    "        c.append(b[p2])\n",
    "        p2 += 1 \n",
    "\n",
    "if p1<n:\n",
    "    c += a[p1:]\n",
    "else:\n",
    "    c += b[p2:]\n",
    "print(c)\n"
   ]
  }
 ],
 "metadata": {
  "kernelspec": {
   "display_name": "Python 3",
   "language": "python",
   "name": "python3"
  },
  "language_info": {
   "codemirror_mode": {
    "name": "ipython",
    "version": 3
   },
   "file_extension": ".py",
   "mimetype": "text/x-python",
   "name": "python",
   "nbconvert_exporter": "python",
   "pygments_lexer": "ipython3",
   "version": "3.10.1 (tags/v3.10.1:2cd268a, Dec  6 2021, 19:10:37) [MSC v.1929 64 bit (AMD64)]"
  },
  "orig_nbformat": 4,
  "vscode": {
   "interpreter": {
    "hash": "085600a7aa13deceb8deb0fe24866ff20c45f3fe42a7fd427e717b2e61e27c6a"
   }
  }
 },
 "nbformat": 4,
 "nbformat_minor": 2
}
